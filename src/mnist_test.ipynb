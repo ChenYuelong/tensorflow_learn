{
 "cells": [
  {
   "cell_type": "markdown",
   "metadata": {},
   "source": [
    "# Tensorflow基本使用\n",
    "\n",
    "## [一个最基本的例子](http://wiki.jikexueyuan.com/project/tensorflow-zh/tutorials/mnist_pros.html)"
   ]
  },
  {
   "cell_type": "markdown",
   "metadata": {},
   "source": [
    "### 1-导入数据"
   ]
  },
  {
   "cell_type": "code",
   "execution_count": 1,
   "metadata": {},
   "outputs": [
    {
     "name": "stdout",
     "output_type": "stream",
     "text": [
      "WARNING:tensorflow:From d:\\projects\\jupyter_projects\\venv\\lib\\site-packages\\tensorflow\\contrib\\learn\\python\\learn\\datasets\\base.py:198: retry (from tensorflow.contrib.learn.python.learn.datasets.base) is deprecated and will be removed in a future version.\n",
      "Instructions for updating:\n",
      "Use the retry module or similar alternatives.\n"
     ]
    }
   ],
   "source": [
    "# -*- coding:utf-8 -*-\n",
    "import tensorflow as tf\n",
    "from tensorflow.examples.tutorials.mnist import input_data"
   ]
  },
  {
   "cell_type": "markdown",
   "metadata": {},
   "source": [
    "### 2-线性回归模型\n",
    "#### 2.1-定义"
   ]
  },
  {
   "cell_type": "code",
   "execution_count": 2,
   "metadata": {},
   "outputs": [],
   "source": [
    "## 输入的x和y\n",
    "x = tf.placeholder(tf.float32, [None, 784])\n",
    "y_ = tf.placeholder(\"float\", [None,10])\n",
    "\n",
    "## 变量定义\n",
    "W = tf.Variable(tf.zeros([784,10]))\n",
    "b = tf.Variable(tf.zeros([10]))\n",
    "y = tf.nn.softmax(tf.matmul(x,W) + b)\n",
    "\n",
    "## 学习的方式定义（loss方法）\n",
    "cross_entropy = -tf.reduce_sum(y_*tf.log(y))\n",
    "train_step = tf.train.GradientDescentOptimizer(0.01).minimize(cross_entropy)\n",
    "\n",
    "## 准确性计算\n",
    "correct_prediction = tf.equal(tf.argmax(y,1), tf.argmax(y_,1))\n",
    "accuracy = tf.reduce_mean(tf.cast(correct_prediction, \"float\"))\n",
    "\n",
    "init = tf.global_variables_initializer()"
   ]
  },
  {
   "cell_type": "markdown",
   "metadata": {},
   "source": [
    "#### 2.2 运行及结果"
   ]
  },
  {
   "cell_type": "code",
   "execution_count": 3,
   "metadata": {},
   "outputs": [
    {
     "name": "stdout",
     "output_type": "stream",
     "text": [
      "WARNING:tensorflow:From <ipython-input-3-aeba3a395d22>:3: read_data_sets (from tensorflow.contrib.learn.python.learn.datasets.mnist) is deprecated and will be removed in a future version.\n",
      "Instructions for updating:\n",
      "Please use alternatives such as official/mnist/dataset.py from tensorflow/models.\n",
      "WARNING:tensorflow:From d:\\projects\\jupyter_projects\\venv\\lib\\site-packages\\tensorflow\\contrib\\learn\\python\\learn\\datasets\\mnist.py:260: maybe_download (from tensorflow.contrib.learn.python.learn.datasets.base) is deprecated and will be removed in a future version.\n",
      "Instructions for updating:\n",
      "Please write your own downloading logic.\n",
      "WARNING:tensorflow:From d:\\projects\\jupyter_projects\\venv\\lib\\site-packages\\tensorflow\\contrib\\learn\\python\\learn\\datasets\\mnist.py:262: extract_images (from tensorflow.contrib.learn.python.learn.datasets.mnist) is deprecated and will be removed in a future version.\n",
      "Instructions for updating:\n",
      "Please use tf.data to implement this functionality.\n",
      "Extracting MNIST_data/train-images-idx3-ubyte.gz\n",
      "WARNING:tensorflow:From d:\\projects\\jupyter_projects\\venv\\lib\\site-packages\\tensorflow\\contrib\\learn\\python\\learn\\datasets\\mnist.py:267: extract_labels (from tensorflow.contrib.learn.python.learn.datasets.mnist) is deprecated and will be removed in a future version.\n",
      "Instructions for updating:\n",
      "Please use tf.data to implement this functionality.\n",
      "Extracting MNIST_data/train-labels-idx1-ubyte.gz\n",
      "WARNING:tensorflow:From d:\\projects\\jupyter_projects\\venv\\lib\\site-packages\\tensorflow\\contrib\\learn\\python\\learn\\datasets\\mnist.py:110: dense_to_one_hot (from tensorflow.contrib.learn.python.learn.datasets.mnist) is deprecated and will be removed in a future version.\n",
      "Instructions for updating:\n",
      "Please use tf.one_hot on tensors.\n",
      "Extracting MNIST_data/t10k-images-idx3-ubyte.gz\n",
      "Extracting MNIST_data/t10k-labels-idx1-ubyte.gz\n",
      "WARNING:tensorflow:From d:\\projects\\jupyter_projects\\venv\\lib\\site-packages\\tensorflow\\contrib\\learn\\python\\learn\\datasets\\mnist.py:290: DataSet.__init__ (from tensorflow.contrib.learn.python.learn.datasets.mnist) is deprecated and will be removed in a future version.\n",
      "Instructions for updating:\n",
      "Please use alternatives such as official/mnist/dataset.py from tensorflow/models.\n",
      "迭代次数为0,准确性为：0.2194 \n",
      "迭代次数为500,准确性为：0.9103 \n",
      "迭代次数为1000,准确性为：0.9162 \n",
      "迭代次数为1500,准确性为：0.9150 \n",
      "迭代次数为2000,准确性为：0.9141 \n",
      "迭代次数为2500,准确性为：0.9111 \n",
      "迭代次数为3000,准确性为：0.9069 \n",
      "迭代次数为3500,准确性为：0.9148 \n",
      "迭代次数为4000,准确性为：0.9176 \n",
      "迭代次数为4500,准确性为：0.9061 \n",
      "迭代次数为5000,准确性为：0.9228 \n",
      "迭代次数为5500,准确性为：0.9185 \n",
      "迭代次数为6000,准确性为：0.9236 \n",
      "迭代次数为6500,准确性为：0.9220 \n",
      "迭代次数为7000,准确性为：0.9227 \n",
      "迭代次数为7500,准确性为：0.9158 \n",
      "迭代次数为8000,准确性为：0.9227 \n",
      "迭代次数为8500,准确性为：0.9152 \n",
      "迭代次数为9000,准确性为：0.9245 \n",
      "迭代次数为9500,准确性为：0.9182 \n",
      "迭代次数为10000,准确性为：0.9197 \n",
      "迭代次数为10500,准确性为：0.9203 \n",
      "迭代次数为11000,准确性为：0.9193 \n",
      "迭代次数为11500,准确性为：0.9185 \n",
      "迭代次数为12000,准确性为：0.9209 \n",
      "迭代次数为12500,准确性为：0.9185 \n",
      "迭代次数为13000,准确性为：0.9092 \n",
      "迭代次数为13500,准确性为：0.9145 \n",
      "迭代次数为14000,准确性为：0.9204 \n",
      "迭代次数为14500,准确性为：0.9213 \n",
      "迭代次数为15000,准确性为：0.9140 \n",
      "迭代次数为15500,准确性为：0.9177 \n",
      "迭代次数为16000,准确性为：0.9207 \n",
      "迭代次数为16500,准确性为：0.9119 \n",
      "迭代次数为17000,准确性为：0.9203 \n",
      "迭代次数为17500,准确性为：0.9197 \n",
      "迭代次数为18000,准确性为：0.9201 \n",
      "迭代次数为18500,准确性为：0.9145 \n",
      "迭代次数为19000,准确性为：0.9234 \n",
      "迭代次数为19500,准确性为：0.9120 \n"
     ]
    }
   ],
   "source": [
    "linear_list=[]\n",
    "x_list=[]\n",
    "mnist = input_data.read_data_sets(\"MNIST_data/\", one_hot=True)\n",
    "with tf.Session() as sess:\n",
    "    sess.run(init)\n",
    "    for i in range(20000):\n",
    "        batch_xs, batch_ys = mnist.train.next_batch(batch_size=128,shuffle=True)\n",
    "        sess.run(train_step, feed_dict={x: batch_xs, y_: batch_ys})\n",
    "        if i%500 == 0:\n",
    "            x_list.append(i)\n",
    "            acc = sess.run(accuracy, feed_dict={x: mnist.test.images, y_: mnist.test.labels})\n",
    "            linear_list.append(acc)\n",
    "            print('迭代次数为%d,准确性为：%.4f ' % (i,acc))"
   ]
  },
  {
   "cell_type": "markdown",
   "metadata": {},
   "source": [
    "### 3-CNN模型（网上示例）\n",
    "#### 3.1-方法定义"
   ]
  },
  {
   "cell_type": "code",
   "execution_count": 4,
   "metadata": {},
   "outputs": [],
   "source": [
    "# 变量定义\n",
    "def weight_variable(shape):\n",
    "    initial = tf.truncated_normal(shape,stddev=0.1)\n",
    "    return tf.Variable(initial)\n",
    "\n",
    "# 偏好值初始化\n",
    "def bias_variable(shape):\n",
    "    initial=tf.constant(0.1,shape=shape)\n",
    "    return tf.Variable(initial)\n",
    "\n",
    "# 卷积过程\n",
    "def conv2d(x,W):\n",
    "    return tf.nn.conv2d(input=x,filter=W,strides=[1,1,1,1],padding='SAME')\n",
    "\n",
    "# 池化过程\n",
    "def max_pool_2x2(x):\n",
    "    return tf.nn.max_pool(x,ksize=[1,2,2,1],\n",
    "                         strides=[1,2,2,1],padding='SAME')\n",
    "# relu\n",
    "def relu(x):\n",
    "    return tf.nn.relu(x)\n",
    "\n",
    "# softmax\n",
    "def softmax(x):\n",
    "    return tf.nn.softmax(x)"
   ]
  },
  {
   "cell_type": "markdown",
   "metadata": {},
   "source": [
    "#### 3.2-流程定义"
   ]
  },
  {
   "cell_type": "code",
   "execution_count": 5,
   "metadata": {},
   "outputs": [],
   "source": [
    "##说明：代码在网上copy下来的，只是加了一些注释\n",
    "\n",
    "## 需要传入的数据定义\n",
    "cnn_x = tf.placeholder(tf.float32,[None,784],name='cnn_x')\n",
    "cnn_y = tf.placeholder(tf.float32, [None,10],name='cnn_y')\n",
    "keep_prob = tf.placeholder(tf.float32,name='keep_prob')\n",
    "\n",
    "\n",
    "## 因为传入的数据为转好的列向量，需要将他转化成矩阵的形式\n",
    "x_image = tf.reshape(cnn_x, [-1, 28, 28, 1])\n",
    "\n",
    "## 第一层卷积+池化+relu\n",
    "W_conv1 = weight_variable([5,5, 1,32])             # patch 5x5, in size 1, out size 32\n",
    "b_conv1 = bias_variable([32])\n",
    "h_conv1 = relu(conv2d(x_image, W_conv1) + b_conv1) # output size 28x28x32\n",
    "h_pool1 = max_pool_2x2(h_conv1)                    # output size 14x14x32\n",
    "\n",
    "## 第二层卷积+池化+relu\n",
    "W_conv2 = weight_variable([5,5, 32, 64])                 # patch 5x5, in size 32, out size 64\n",
    "b_conv2 = bias_variable([64])\n",
    "h_conv2 = relu(conv2d(h_pool1, W_conv2) + b_conv2)       # output size 14x14x64\n",
    "h_pool2 = max_pool_2x2(h_conv2)                          # output size 7x7x64\n",
    "\n",
    "\n",
    "## 全连接层：经过卷积+池化+relu的过程之后，获得的还是很多矩阵的结果，\n",
    "## 全连接层就是将矩阵的结果转化而向我们之前做的扁平化的向量\n",
    "## 一共会经过两次\n",
    "\n",
    "## 例如有两张4x4的图片，其中一共包括32个像素点（4x4x2），相当于一个大小为[1,32]矩阵，经过全连接，我们可以用一个大小为[32,x]的矩阵去作用\n",
    "## 那么这个原矩阵就的大小就会变成[1,x]，x可以为任意数，如下例子就是1024\n",
    "\n",
    "# ## 第一层\n",
    "W_fc1 = weight_variable([7*7*64, 1024])\n",
    "b_fc1 = bias_variable([1024])\n",
    "# [n_samples, 7, 7, 64] ->> [n_samples, 7*7*64]\n",
    "h_pool2_flat = tf.reshape(h_pool2, [-1, 7*7*64])\n",
    "h_fc1 = relu(tf.matmul(h_pool2_flat, W_fc1) + b_fc1)\n",
    "\n",
    "## 为了防止梯度消失，会加入dropout\n",
    "h_fc1_drop = tf.nn.dropout(h_fc1, keep_prob)\n",
    "\n",
    "# ## 第二层\n",
    "W_fc2 = weight_variable([1024, 10])\n",
    "b_fc2 = bias_variable([10])\n",
    "prediction = tf.nn.softmax(tf.matmul(h_fc1_drop, W_fc2)+ b_fc2)\n",
    "\n",
    "### 训练方法\n",
    "cross_entropy = tf.reduce_mean(-tf.reduce_sum(cnn_y * tf.log(prediction),\n",
    "                                              reduction_indices=[1]))  # loss\n",
    "train_step = tf.train.GradientDescentOptimizer(1e-3).minimize(cross_entropy)\n",
    "\n",
    "## 准确性判别方法\n",
    "correct_prediction = tf.equal(tf.argmax(cnn_y,1), tf.argmax(prediction,1))\n",
    "accuracy = tf.reduce_mean(tf.cast(correct_prediction, \"float\"))\n",
    "\n",
    "init = tf.global_variables_initializer()"
   ]
  },
  {
   "cell_type": "markdown",
   "metadata": {},
   "source": [
    "#### 3.3-运行及结果"
   ]
  },
  {
   "cell_type": "code",
   "execution_count": 6,
   "metadata": {},
   "outputs": [
    {
     "name": "stdout",
     "output_type": "stream",
     "text": [
      "Extracting MNIST_data/train-images-idx3-ubyte.gz\n",
      "Extracting MNIST_data/train-labels-idx1-ubyte.gz\n",
      "Extracting MNIST_data/t10k-images-idx3-ubyte.gz\n",
      "Extracting MNIST_data/t10k-labels-idx1-ubyte.gz\n",
      "迭代次数为0,准确性为：0.1094 \n",
      "迭代次数为500,准确性为：0.8134 \n",
      "迭代次数为1000,准确性为：0.8844 \n",
      "迭代次数为1500,准确性为：0.9086 \n",
      "迭代次数为2000,准确性为：0.9235 \n",
      "迭代次数为2500,准确性为：0.9314 \n",
      "迭代次数为3000,准确性为：0.9368 \n",
      "迭代次数为3500,准确性为：0.9404 \n",
      "迭代次数为4000,准确性为：0.9452 \n",
      "迭代次数为4500,准确性为：0.9476 \n",
      "迭代次数为5000,准确性为：0.9499 \n",
      "迭代次数为5500,准确性为：0.9529 \n",
      "迭代次数为6000,准确性为：0.9548 \n",
      "迭代次数为6500,准确性为：0.9554 \n",
      "迭代次数为7000,准确性为：0.9574 \n",
      "迭代次数为7500,准确性为：0.9588 \n",
      "迭代次数为8000,准确性为：0.9594 \n",
      "迭代次数为8500,准确性为：0.9607 \n",
      "迭代次数为9000,准确性为：0.9621 \n",
      "迭代次数为9500,准确性为：0.9632 \n",
      "迭代次数为10000,准确性为：0.9639 \n",
      "迭代次数为10500,准确性为：0.9647 \n",
      "迭代次数为11000,准确性为：0.9651 \n",
      "迭代次数为11500,准确性为：0.9659 \n",
      "迭代次数为12000,准确性为：0.9671 \n",
      "迭代次数为12500,准确性为：0.9675 \n",
      "迭代次数为13000,准确性为：0.9677 \n",
      "迭代次数为13500,准确性为：0.9678 \n",
      "迭代次数为14000,准确性为：0.9689 \n",
      "迭代次数为14500,准确性为：0.9689 \n",
      "迭代次数为15000,准确性为：0.9689 \n",
      "迭代次数为15500,准确性为：0.9695 \n",
      "迭代次数为16000,准确性为：0.9698 \n",
      "迭代次数为16500,准确性为：0.9705 \n",
      "迭代次数为17000,准确性为：0.9707 \n",
      "迭代次数为17500,准确性为：0.9712 \n",
      "迭代次数为18000,准确性为：0.9713 \n",
      "迭代次数为18500,准确性为：0.9712 \n",
      "迭代次数为19000,准确性为：0.9720 \n",
      "迭代次数为19500,准确性为：0.9726 \n"
     ]
    }
   ],
   "source": [
    "mnist2 = input_data.read_data_sets(\"MNIST_data/\", one_hot=True)\n",
    "\n",
    "cnn_list = []\n",
    "with tf.Session() as sess:\n",
    "    sess.run(init)    \n",
    "    for i in range(20000):\n",
    "        batch_xs, batch_ys = mnist2.train.next_batch(128)\n",
    "        sess.run(train_step,feed_dict={cnn_x:batch_xs,cnn_y:batch_ys,keep_prob:0.5})\n",
    "        if i%500 == 0:\n",
    "            acc = sess.run(accuracy, feed_dict={cnn_x: mnist2.test.images, cnn_y: mnist2.test.labels, keep_prob:1})\n",
    "            cnn_list.append(acc)\n",
    "            print('迭代次数为%d,准确性为：%.4f ' \n",
    "                  % (i,acc))\n",
    "##因为cnn中有第三个传入数据，keep_prob，所以一定要传入"
   ]
  },
  {
   "cell_type": "markdown",
   "metadata": {},
   "source": [
    "### 4-CNN模型（自己胡乱构造）\n",
    "#### 4.1-方法定义（略）\n",
    ">方法可以直接使用之前CNN的方法，只是需要修改流程就可以了\n",
    "#### 4.2-流程定义"
   ]
  },
  {
   "cell_type": "code",
   "execution_count": 7,
   "metadata": {},
   "outputs": [],
   "source": [
    "cnn_x = tf.placeholder(tf.float32,[None,784],name='cnn_x')\n",
    "cnn_y = tf.placeholder(tf.float32, [None,10],name='cnn_y')\n",
    "## 自己就不加keep_prob，因为不知道影响有多大\n",
    "\n",
    "\n",
    "image = tf.reshape(cnn_x,shape=[-1,28,28,1])\n",
    "\n",
    "w_1 = weight_variable([3,3,1,7])\n",
    "## 没有加bias，而且修改了卷积的大小，输出减少为7\n",
    "h_1 = relu(max_pool_2x2(conv2d(image,w_1)))\n",
    "\n",
    "\n",
    "w_2 = weight_variable([5,5,7,64])\n",
    "h_2 = relu(max_pool_2x2(conv2d(h_1,w_2)))\n",
    "\n",
    "\n",
    "w_fc1 = weight_variable([7*7*64,1024])\n",
    "b_fc1 = bias_variable([1024])\n",
    "h_2_flat = tf.reshape(h_2, [-1, 7 * 7 * 64])\n",
    "h_fc1 = tf.nn.relu(tf.matmul(h_2_flat, w_fc1) + b_fc1)\n",
    "\n",
    "\n",
    "#全连接层fc2\n",
    "W_fc2 = weight_variable([1024, 10])\n",
    "b_fc2 = bias_variable([10])\n",
    "# 直接经过softmax进行分类\n",
    "prediction = tf.nn.softmax(tf.matmul(h_fc1, W_fc2) + b_fc2)\n",
    "\n",
    "correct_prediction = tf.equal(tf.argmax(cnn_y,1), tf.argmax(prediction,1))\n",
    "accuracy = tf.reduce_mean(tf.cast(correct_prediction, \"float\"))\n",
    "\n",
    "\n",
    "cross_entropy = tf.reduce_mean(-tf.reduce_sum(cnn_y * tf.log(prediction),\n",
    "                                              reduction_indices=[1]))  # loss\n",
    "train_step = tf.train.GradientDescentOptimizer(1e-3).minimize(cross_entropy)\n",
    "init = tf.global_variables_initializer()"
   ]
  },
  {
   "cell_type": "markdown",
   "metadata": {},
   "source": [
    "#### 4.3-运行及结果"
   ]
  },
  {
   "cell_type": "code",
   "execution_count": 8,
   "metadata": {},
   "outputs": [
    {
     "name": "stdout",
     "output_type": "stream",
     "text": [
      "Extracting MNIST_data/train-images-idx3-ubyte.gz\n",
      "Extracting MNIST_data/train-labels-idx1-ubyte.gz\n",
      "Extracting MNIST_data/t10k-images-idx3-ubyte.gz\n",
      "Extracting MNIST_data/t10k-labels-idx1-ubyte.gz\n",
      "迭代次数为0,准确性为：0.0635 \n",
      "迭代次数为500,准确性为：0.7312 \n",
      "迭代次数为1000,准确性为：0.8651 \n",
      "迭代次数为1500,准确性为：0.9000 \n",
      "迭代次数为2000,准确性为：0.9181 \n",
      "迭代次数为2500,准确性为：0.9280 \n",
      "迭代次数为3000,准确性为：0.9347 \n",
      "迭代次数为3500,准确性为：0.9380 \n",
      "迭代次数为4000,准确性为：0.9436 \n",
      "迭代次数为4500,准确性为：0.9456 \n",
      "迭代次数为5000,准确性为：0.9498 \n",
      "迭代次数为5500,准确性为：0.9512 \n",
      "迭代次数为6000,准确性为：0.9541 \n",
      "迭代次数为6500,准确性为：0.9554 \n",
      "迭代次数为7000,准确性为：0.9567 \n",
      "迭代次数为7500,准确性为：0.9583 \n",
      "迭代次数为8000,准确性为：0.9602 \n",
      "迭代次数为8500,准确性为：0.9609 \n",
      "迭代次数为9000,准确性为：0.9621 \n",
      "迭代次数为9500,准确性为：0.9617 \n",
      "迭代次数为10000,准确性为：0.9636 \n",
      "迭代次数为10500,准确性为：0.9648 \n",
      "迭代次数为11000,准确性为：0.9653 \n",
      "迭代次数为11500,准确性为：0.9655 \n",
      "迭代次数为12000,准确性为：0.9671 \n",
      "迭代次数为12500,准确性为：0.9676 \n",
      "迭代次数为13000,准确性为：0.9671 \n",
      "迭代次数为13500,准确性为：0.9678 \n",
      "迭代次数为14000,准确性为：0.9683 \n",
      "迭代次数为14500,准确性为：0.9689 \n",
      "迭代次数为15000,准确性为：0.9703 \n",
      "迭代次数为15500,准确性为：0.9700 \n",
      "迭代次数为16000,准确性为：0.9715 \n",
      "迭代次数为16500,准确性为：0.9709 \n",
      "迭代次数为17000,准确性为：0.9712 \n",
      "迭代次数为17500,准确性为：0.9716 \n",
      "迭代次数为18000,准确性为：0.9719 \n",
      "迭代次数为18500,准确性为：0.9726 \n",
      "迭代次数为19000,准确性为：0.9721 \n",
      "迭代次数为19500,准确性为：0.9727 \n"
     ]
    }
   ],
   "source": [
    "mnist3 = input_data.read_data_sets(\"MNIST_data/\", one_hot=True)\n",
    "cnn2_list = []\n",
    "with tf.Session() as sess:\n",
    "    sess.run(init)    \n",
    "    for i in range(20000):\n",
    "        batch_xs, batch_ys = mnist3.train.next_batch(128)\n",
    "        test=sess.run(train_step,feed_dict={cnn_x:batch_xs,cnn_y:batch_ys})\n",
    "        if i%500 == 0:\n",
    "            acc = sess.run(accuracy, feed_dict={cnn_x: mnist3.test.images, cnn_y: mnist3.test.labels})\n",
    "            cnn2_list.append(acc)\n",
    "            print('迭代次数为%d,准确性为：%.4f '\n",
    "                  % (i,acc))\n"
   ]
  },
  {
   "cell_type": "code",
   "execution_count": 11,
   "metadata": {},
   "outputs": [
    {
     "data": {
      "text/plain": [
       "<Figure size 15000x7500 with 0 Axes>"
      ]
     },
     "metadata": {},
     "output_type": "display_data"
    },
    {
     "data": {
      "image/png": "[encoded data removed]",
      "text/plain": [
       "<Figure size 432x288 with 1 Axes>"
      ]
     },
     "metadata": {},
     "output_type": "display_data"
    }
   ],
   "source": [
    "import matplotlib.pyplot as plt\n",
    "import pandas as pd\n",
    "\n",
    "plt.figure(figsize=(50,25),dpi=300)\n",
    "\n",
    "data = pd.DataFrame([x_list,linear_list,cnn_list,cnn2_list]).T\n",
    "data.columns=['times','linear','cnn','cnn_test']\n",
    "\n",
    "\n",
    "data.plot(x='times',xlim=(0,20000),ylim=(0,1),title='compare')\n",
    "\n",
    "\n",
    "plt.show()"
   ]
  },
  {
   "cell_type": "code",
   "execution_count": 10,
   "metadata": {},
   "outputs": [
    {
     "data": {
      "image/png": "[encoded data removed]",
      "text/plain": [
       "<Figure size 432x288 with 1 Axes>"
      ]
     },
     "metadata": {},
     "output_type": "display_data"
    }
   ],
   "source": [
    "data.plot(x='times',xlim=(17000,20000),ylim=(0.9,1),title='compare-details')\n",
    "plt.show()"
   ]
  }
 ],
 "metadata": {
  "kernelspec": {
   "display_name": "Python 3",
   "language": "python",
   "name": "python3"
  },
  "language_info": {
   "codemirror_mode": {
    "name": "ipython",
    "version": 3
   },
   "file_extension": ".py",
   "mimetype": "text/x-python",
   "name": "python",
   "nbconvert_exporter": "python",
   "pygments_lexer": "ipython3",
   "version": "3.6.4"
  }
 },
 "nbformat": 4,
 "nbformat_minor": 2
}
